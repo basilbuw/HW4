{
 "cells": [
  {
   "cell_type": "markdown",
   "metadata": {
    "id": "UNmkdWoXvkBE"
   },
   "source": [
    "## Image Classification on CIFAR-10\n",
    "In this problem we will explore different deep learning architectures for image classification on the CIFAR-10 dataset. Make sure that you are familiar with torch `Tensor`s, two-dimensional convolutions (`nn.Conv2d`) and fully-connected layers (`nn.Linear`), ReLU non-linearities (`F.relu`), pooling (`nn.MaxPool2d`), and tensor reshaping (`view`).\n",
    "\n",
    "We will use Colab because it has free GPU runtimes available; GPUs can accelerate training times for this problem by 10-100x. **You will need to enable the GPU runtime to use it**. To do so, click \"Runtime\" above and then \"Change runtime type\". There under hardware accelerator choose \"GPU\".\n",
    "\n",
    "This notebook provides some starter code for the CIFAR-10 problem on HW4, including a completed training loop to assist with some of the Pytorch setup. You'll need to modify this code to implement the layers required for the assignment, but this provides a working training loop to start from.\n",
    "\n",
    "*Note: GPU runtimes are limited on Colab. Limit your training to short-running jobs (around 20mins or less) and spread training out over time, if possible. Colab WILL limit your usage of GPU time, so plan ahead and be prepared to take breaks during training.* We also suggest performing your early coding/sweeps on a small fraction of the dataset (~10%) to minimize training time and GPU usage."
   ]
  },
  {
   "cell_type": "code",
   "execution_count": 27,
   "metadata": {
    "id": "bb7WymOmv_cx"
   },
   "outputs": [],
   "source": [
    "import torch\n",
    "from torch import nn\n",
    "import numpy as np\n",
    "\n",
    "from typing import Tuple, Union, List, Callable\n",
    "from torch.optim import SGD\n",
    "import torchvision\n",
    "from torch.utils.data import DataLoader, TensorDataset, random_split\n",
    "import matplotlib.pyplot as plt\n",
    "from tqdm.notebook import tqdm"
   ]
  },
  {
   "cell_type": "markdown",
   "metadata": {
    "id": "-SusLoH91CEz"
   },
   "source": [
    "Let's verify that we are using a gpu:"
   ]
  },
  {
   "cell_type": "code",
   "execution_count": 31,
   "metadata": {
    "colab": {
     "base_uri": "https://localhost:8080/"
    },
    "executionInfo": {
     "elapsed": 2,
     "status": "ok",
     "timestamp": 1684391170228,
     "user": {
      "displayName": "Elliott Zackrone",
      "userId": "04505639823729149858"
     },
     "user_tz": 420
    },
    "id": "vmxNdxwvxNs1",
    "outputId": "c22015d4-a225-4397-9f40-015bc5ee34c4"
   },
   "outputs": [
    {
     "name": "stdout",
     "output_type": "stream",
     "text": [
      "True\n",
      "True\n",
      "mps\n"
     ]
    }
   ],
   "source": [
    "print(torch.backends.mps.is_built())\n",
    "print(torch.backends.mps.is_available())\n",
    "\n",
    "DEVICE = torch.device(\"mps\")\n",
    "#DEVICE = torch.device(\"mps\")\n",
    "\n",
    "print(DEVICE)"
   ]
  },
  {
   "cell_type": "markdown",
   "metadata": {
    "id": "LbFk2t2RxYcn"
   },
   "source": [
    "To use the GPU you will need to send both the model and data to a device; this transfers the model from its default location on CPU to the GPU.\n",
    "\n",
    "Note that torch operations on Tensors will fail if they are not located on the same device.\n",
    "\n",
    "```python\n",
    "model = model.to(DEVICE)  # Sending a model to GPU\n",
    "\n",
    "for x, y in tqdm(data_loader):\n",
    "  x, y = x.to(DEVICE), y.to(DEVICE)\n",
    "```\n",
    "When reading tensors you may need to send them back to cpu, you can do so with `x = x.cpu()`."
   ]
  },
  {
   "cell_type": "markdown",
   "metadata": {
    "id": "xODE5P5D1Wwy"
   },
   "source": [
    "Let's load CIFAR-10 data. This is how we load datasets using PyTorch in the real world!"
   ]
  },
  {
   "cell_type": "code",
   "execution_count": 32,
   "metadata": {
    "colab": {
     "base_uri": "https://localhost:8080/"
    },
    "executionInfo": {
     "elapsed": 9404,
     "status": "ok",
     "timestamp": 1684391179631,
     "user": {
      "displayName": "Elliott Zackrone",
      "userId": "04505639823729149858"
     },
     "user_tz": 420
    },
    "id": "wOvLuZry1cKc",
    "outputId": "443de075-18ca-44e7-edcf-ff60c76a743b"
   },
   "outputs": [
    {
     "name": "stdout",
     "output_type": "stream",
     "text": [
      "Files already downloaded and verified\n",
      "Files already downloaded and verified\n"
     ]
    }
   ],
   "source": [
    "train_dataset = torchvision.datasets.CIFAR10(\"./data\", train=True, download=True, transform=torchvision.transforms.ToTensor())\n",
    "test_dataset = torchvision.datasets.CIFAR10(\"./data\", train=False, download=True, transform=torchvision.transforms.ToTensor())"
   ]
  },
  {
   "cell_type": "markdown",
   "metadata": {
    "id": "oG78KMOj61HJ"
   },
   "source": [
    "Here, we'll use the torch `DataLoader` to wrap our datasets. `DataLoader`s handle batching, shuffling, and iterating over data; they can also be useful for building more complex input pipelines that perform transfoermations such as data augmentation."
   ]
  },
  {
   "cell_type": "code",
   "execution_count": 33,
   "metadata": {
    "id": "mHIZY4BoRxvC"
   },
   "outputs": [],
   "source": [
    "batch_size = 128\n",
    "\n",
    "train_dataset, val_dataset = random_split(train_dataset, [int(0.9 * len(train_dataset)), int( 0.1 * len(train_dataset))])\n",
    "\n",
    "# Create separate dataloaders for the train, test, and validation set\n",
    "train_loader = DataLoader(\n",
    "    train_dataset,\n",
    "    batch_size=batch_size,\n",
    "    shuffle=True\n",
    ")\n",
    "\n",
    "val_loader = DataLoader(\n",
    "    val_dataset,\n",
    "    batch_size=batch_size,\n",
    "    shuffle=True\n",
    ")\n",
    "\n",
    "test_loader = DataLoader(\n",
    "    test_dataset,\n",
    "    batch_size=batch_size,\n",
    "    shuffle=True\n",
    ")"
   ]
  },
  {
   "cell_type": "markdown",
   "metadata": {
    "id": "ju8QRAyv2u7F"
   },
   "source": [
    "## For Reference: Logistic Regression\n",
    "\n",
    "This problem is about deep learning architectures, not pytorch. We are providing an implementation of logistic regression using SGD in torch, which can serve as a template for the rest of your implementation in this problem."
   ]
  },
  {
   "cell_type": "markdown",
   "metadata": {
    "id": "ELjydYRt5Frf"
   },
   "source": [
    "Before we get started, let's take a look at our data to get an understanding of what we are doing. CIFAR-10 is a dataset containing images split into 10 classes."
   ]
  },
  {
   "cell_type": "code",
   "execution_count": 34,
   "metadata": {
    "colab": {
     "base_uri": "https://localhost:8080/",
     "height": 537
    },
    "executionInfo": {
     "elapsed": 180,
     "status": "ok",
     "timestamp": 1684391203568,
     "user": {
      "displayName": "Elliott Zackrone",
      "userId": "04505639823729149858"
     },
     "user_tz": 420
    },
    "id": "_UU8aIle5m8Q",
    "outputId": "11a4b439-04f1-42e7-a16e-a50f2561f25b"
   },
   "outputs": [
    {
     "name": "stdout",
     "output_type": "stream",
     "text": [
      "A single batch of images has shape: torch.Size([128, 3, 32, 32])\n",
      "A single RGB image has 3 channels, width 32, and height 32.\n",
      "Size of a batch of images flattened with view: torch.Size([128, 3072])\n",
      "Size of a batch of images flattened with flatten: torch.Size([128, 3072])\n",
      "True\n",
      "This image is labeled as class deer\n"
     ]
    },
    {
     "data": {
      "image/png": "[encoded data removed]",
      "text/plain": [
       "<Figure size 640x480 with 1 Axes>"
      ]
     },
     "metadata": {},
     "output_type": "display_data"
    }
   ],
   "source": [
    "imgs, labels = next(iter(train_loader))\n",
    "print(f\"A single batch of images has shape: {imgs.size()}\")\n",
    "example_image, example_label = imgs[0], labels[0]\n",
    "c, w, h = example_image.size()\n",
    "print(f\"A single RGB image has {c} channels, width {w}, and height {h}.\")\n",
    "\n",
    "# This is one way to flatten our images\n",
    "batch_flat_view = imgs.view(-1, c * w * h)\n",
    "print(f\"Size of a batch of images flattened with view: {batch_flat_view.size()}\")\n",
    "\n",
    "# This is another equivalent way\n",
    "batch_flat_flatten = imgs.flatten(1)\n",
    "print(f\"Size of a batch of images flattened with flatten: {batch_flat_flatten.size()}\")\n",
    "\n",
    "# The new dimension is just the product of the ones we flattened\n",
    "d = example_image.flatten().size()[0]\n",
    "print(c * w * h == d)\n",
    "\n",
    "# View the image\n",
    "t =  torchvision.transforms.ToPILImage()\n",
    "plt.imshow(t(example_image))\n",
    "\n",
    "# These are what the class labels in CIFAR-10 represent. For more information,\n",
    "# visit https://www.cs.toronto.edu/~kriz/cifar.html\n",
    "classes = [\"airplane\", \"automobile\", \"bird\", \"cat\", \"deer\", \"dog\", \"frog\",\n",
    "           \"horse\", \"ship\", \"truck\"]\n",
    "print(f\"This image is labeled as class {classes[example_label]}\")\n"
   ]
  },
  {
   "cell_type": "markdown",
   "metadata": {
    "id": "JdBbLQdC_mA_"
   },
   "source": [
    "In this problem, we will attempt to predict what class an image is labeled as."
   ]
  },
  {
   "cell_type": "markdown",
   "metadata": {
    "id": "J3HQyGMn_42D"
   },
   "source": [
    "First, let's create our model. For a linear model we could flatten the data before passing it into the model, but that is not be the case for the convolutional neural network."
   ]
  },
  {
   "cell_type": "code",
   "execution_count": 35,
   "metadata": {
    "id": "5qLVC9PbACDt"
   },
   "outputs": [],
   "source": [
    "def linear_model() -> nn.Module:\n",
    "    \"\"\"Instantiate a linear model and send it to device.\"\"\"\n",
    "    model =  nn.Sequential(\n",
    "            nn.Flatten(),\n",
    "            nn.Linear(d, 10)\n",
    "         )\n",
    "    return model.to(DEVICE)"
   ]
  },
  {
   "cell_type": "markdown",
   "metadata": {
    "id": "kd49udL8AZ_E"
   },
   "source": [
    "Let's define a method to train this model using SGD as our optimizer."
   ]
  },
  {
   "cell_type": "code",
   "execution_count": 36,
   "metadata": {
    "id": "YgcFP1-UBj1Z"
   },
   "outputs": [],
   "source": [
    "def train(\n",
    "    model: nn.Module, optimizer: SGD,\n",
    "    train_loader: DataLoader, val_loader: DataLoader,\n",
    "    epochs: int = 20\n",
    ")-> Tuple[List[float], List[float], List[float], List[float]]:\n",
    "    \"\"\"\n",
    "    Trains a model for the specified number of epochs using the loaders.\n",
    "\n",
    "    Returns: \n",
    "    Lists of training loss, training accuracy, validation loss, validation accuracy for each epoch.\n",
    "    \"\"\"\n",
    "\n",
    "    loss = nn.CrossEntropyLoss()\n",
    "    train_losses = []\n",
    "    train_accuracies = []\n",
    "    val_losses = []\n",
    "    val_accuracies = []\n",
    "    for e in tqdm(range(epochs)):\n",
    "        model.train()\n",
    "        train_loss = 0.0\n",
    "        train_acc = 0.0\n",
    "\n",
    "        # Main training loop; iterate over train_loader. The loop\n",
    "        # terminates when the train loader finishes iterating, which is one epoch.\n",
    "        for (x_batch, labels) in train_loader:\n",
    "            x_batch, labels = x_batch.to(DEVICE), labels.to(DEVICE)\n",
    "            optimizer.zero_grad()\n",
    "            labels_pred = model(x_batch)\n",
    "            batch_loss = loss(labels_pred, labels)\n",
    "            train_loss = train_loss + batch_loss.item()\n",
    "\n",
    "            labels_pred_max = torch.argmax(labels_pred, 1)\n",
    "            batch_acc = torch.sum(labels_pred_max == labels)\n",
    "            train_acc = train_acc + batch_acc.item()\n",
    "\n",
    "            batch_loss.backward()\n",
    "            optimizer.step()\n",
    "        train_losses.append(train_loss / len(train_loader))\n",
    "        train_accuracies.append(train_acc / (batch_size * len(train_loader)))\n",
    "\n",
    "        # Validation loop; use .no_grad() context manager to save memory.\n",
    "        model.eval()\n",
    "        val_loss = 0.0\n",
    "        val_acc = 0.0\n",
    "\n",
    "        with torch.no_grad():\n",
    "            for (v_batch, labels) in val_loader:\n",
    "                v_batch, labels = v_batch.to(DEVICE), labels.to(DEVICE)\n",
    "                labels_pred = model(v_batch)\n",
    "                v_batch_loss = loss(labels_pred, labels)\n",
    "                val_loss = val_loss + v_batch_loss.item()\n",
    "\n",
    "                v_pred_max = torch.argmax(labels_pred, 1)\n",
    "                batch_acc = torch.sum(v_pred_max == labels)\n",
    "                val_acc = val_acc + batch_acc.item()\n",
    "            val_losses.append(val_loss / len(val_loader))\n",
    "            val_accuracies.append(val_acc / (batch_size * len(val_loader)))\n",
    "\n",
    "    return train_losses, train_accuracies, val_losses, val_accuracies\n"
   ]
  },
  {
   "cell_type": "markdown",
   "metadata": {
    "id": "2ZUqV2ZrEf-u"
   },
   "source": [
    "For this problem, we will be using SGD. The two hyperparameters for our linear model trained with SGD are the learning rate and momentum. Only learning rate will be searched for in this example.\n",
    "\n",
    "Note: We ask you to plot the accuracies for the best 3 models for each structure, so you will need to return multiple sets of hyperparameters for the homework, or, if you do random search, run your hyperparameter search multiple times."
   ]
  },
  {
   "cell_type": "code",
   "execution_count": 37,
   "metadata": {
    "id": "2p-oDqbyhUvG"
   },
   "outputs": [],
   "source": [
    "def parameter_search(\n",
    "    train_loader: DataLoader, \n",
    "    val_loader: DataLoader, \n",
    "    model_fn:Callable[[], nn.Module]\n",
    ") -> float:\n",
    "    \"\"\"\n",
    "    Parameter search for our linear model using SGD.\n",
    "\n",
    "    Args:\n",
    "    train_loader: the train dataloader.\n",
    "    val_loader: the validation dataloader.\n",
    "    model_fn: a function that, when called, returns a torch.nn.Module.\n",
    "\n",
    "    Returns:\n",
    "    The learning rate with the least validation loss.\n",
    "    NOTE: you may need to modify this function to search over and return\n",
    "     other parameters beyond learning rate.\n",
    "    \"\"\"\n",
    "    num_iter = 10 \n",
    "    best_loss = torch.tensor(np.inf)\n",
    "    best_lr = 0.0\n",
    "\n",
    "    lrs = torch.linspace(10 ** (-6), 10 ** (-1), num_iter)\n",
    "\n",
    "    for lr in lrs:\n",
    "        print(f\"trying learning rate {lr}\")\n",
    "        model = model_fn()\n",
    "        optim = SGD(model.parameters(), lr)\n",
    "        \n",
    "        train_loss, train_acc, val_loss, val_acc = train(\n",
    "            model,\n",
    "            optim,\n",
    "            train_loader,\n",
    "            val_loader,\n",
    "            epochs=20\n",
    "            )\n",
    "\n",
    "        if min(val_loss) < best_loss:\n",
    "            best_loss = min(val_loss)\n",
    "            best_lr = lr\n",
    "        \n",
    "    return best_lr"
   ]
  },
  {
   "cell_type": "markdown",
   "metadata": {
    "id": "ZULxD9sGHm1D"
   },
   "source": [
    "Now that we have everything, we can train and evaluate our model."
   ]
  },
  {
   "cell_type": "code",
   "execution_count": 38,
   "metadata": {
    "colab": {
     "base_uri": "https://localhost:8080/",
     "referenced_widgets": [
      "b854d671884f4665a52c35a60e10ee17",
      "77514a93127f4aa291b13e8b82098334",
      "e5f8331defef4c26b26a87c61ccc26c1",
      "3a03dfc67a28475e9d672a31196db358",
      "fb372b3fbd04411496f3bb0243dbb6e6",
      "6a3b28b18b3e42028e9dd9321dbed77d",
      "0b9c90017289437d83cd678177b6bfb0",
      "ecf7718ece43405eb3f3ae2ebbe82d66",
      "528930246f304d42892b3a2dae7929d1",
      "6721d90bcc3142c69bbd9334814d881c"
     ]
    },
    "id": "azwXX-AEIGKx",
    "outputId": "55b65e28-7d24-4924-e8a7-bbb5b1fc22ff",
    "scrolled": true
   },
   "outputs": [
    {
     "name": "stdout",
     "output_type": "stream",
     "text": [
      "trying learning rate 9.999999974752427e-07\n"
     ]
    },
    {
     "data": {
      "application/vnd.jupyter.widget-view+json": {
       "model_id": "826540cc397242bd97388edc10d87de4",
       "version_major": 2,
       "version_minor": 0
      },
      "text/plain": [
       "  0%|          | 0/20 [00:00<?, ?it/s]"
      ]
     },
     "metadata": {},
     "output_type": "display_data"
    },
    {
     "name": "stdout",
     "output_type": "stream",
     "text": [
      "trying learning rate 0.011112000793218613\n"
     ]
    },
    {
     "data": {
      "application/vnd.jupyter.widget-view+json": {
       "model_id": "1e6c5a13e5c543f29f865ce54a8d1641",
       "version_major": 2,
       "version_minor": 0
      },
      "text/plain": [
       "  0%|          | 0/20 [00:00<?, ?it/s]"
      ]
     },
     "metadata": {},
     "output_type": "display_data"
    },
    {
     "name": "stdout",
     "output_type": "stream",
     "text": [
      "trying learning rate 0.02222300134599209\n"
     ]
    },
    {
     "data": {
      "application/vnd.jupyter.widget-view+json": {
       "model_id": "cf81e7e4f70f4616a34c6e8bf7cf19db",
       "version_major": 2,
       "version_minor": 0
      },
      "text/plain": [
       "  0%|          | 0/20 [00:00<?, ?it/s]"
      ]
     },
     "metadata": {},
     "output_type": "display_data"
    },
    {
     "name": "stdout",
     "output_type": "stream",
     "text": [
      "trying learning rate 0.033334001898765564\n"
     ]
    },
    {
     "data": {
      "application/vnd.jupyter.widget-view+json": {
       "model_id": "e8f3c65988dc436dbfb0d9095da52c18",
       "version_major": 2,
       "version_minor": 0
      },
      "text/plain": [
       "  0%|          | 0/20 [00:00<?, ?it/s]"
      ]
     },
     "metadata": {},
     "output_type": "display_data"
    },
    {
     "name": "stdout",
     "output_type": "stream",
     "text": [
      "trying learning rate 0.04444500058889389\n"
     ]
    },
    {
     "data": {
      "application/vnd.jupyter.widget-view+json": {
       "model_id": "4b8b79e82b444913b3ca0ef56f3b0cf5",
       "version_major": 2,
       "version_minor": 0
      },
      "text/plain": [
       "  0%|          | 0/20 [00:00<?, ?it/s]"
      ]
     },
     "metadata": {},
     "output_type": "display_data"
    },
    {
     "name": "stdout",
     "output_type": "stream",
     "text": [
      "trying learning rate 0.05555599927902222\n"
     ]
    },
    {
     "data": {
      "application/vnd.jupyter.widget-view+json": {
       "model_id": "b615201854434e00b109e033c0eabc06",
       "version_major": 2,
       "version_minor": 0
      },
      "text/plain": [
       "  0%|          | 0/20 [00:00<?, ?it/s]"
      ]
     },
     "metadata": {},
     "output_type": "display_data"
    },
    {
     "name": "stdout",
     "output_type": "stream",
     "text": [
      "trying learning rate 0.06666699796915054\n"
     ]
    },
    {
     "data": {
      "application/vnd.jupyter.widget-view+json": {
       "model_id": "b061aacf59794d3aaccc747dd906b477",
       "version_major": 2,
       "version_minor": 0
      },
      "text/plain": [
       "  0%|          | 0/20 [00:00<?, ?it/s]"
      ]
     },
     "metadata": {},
     "output_type": "display_data"
    },
    {
     "name": "stdout",
     "output_type": "stream",
     "text": [
      "trying learning rate 0.07777799665927887\n"
     ]
    },
    {
     "data": {
      "application/vnd.jupyter.widget-view+json": {
       "model_id": "3af7376da93d4c51baaaf40c01af1427",
       "version_major": 2,
       "version_minor": 0
      },
      "text/plain": [
       "  0%|          | 0/20 [00:00<?, ?it/s]"
      ]
     },
     "metadata": {},
     "output_type": "display_data"
    },
    {
     "name": "stdout",
     "output_type": "stream",
     "text": [
      "trying learning rate 0.08888900279998779\n"
     ]
    },
    {
     "data": {
      "application/vnd.jupyter.widget-view+json": {
       "model_id": "54243e2612f14d4eb4bacc35175e9f61",
       "version_major": 2,
       "version_minor": 0
      },
      "text/plain": [
       "  0%|          | 0/20 [00:00<?, ?it/s]"
      ]
     },
     "metadata": {},
     "output_type": "display_data"
    },
    {
     "name": "stdout",
     "output_type": "stream",
     "text": [
      "trying learning rate 0.10000000149011612\n"
     ]
    },
    {
     "data": {
      "application/vnd.jupyter.widget-view+json": {
       "model_id": "59e7d769fc6c40229ab10c1249cd2dd6",
       "version_major": 2,
       "version_minor": 0
      },
      "text/plain": [
       "  0%|          | 0/20 [00:00<?, ?it/s]"
      ]
     },
     "metadata": {},
     "output_type": "display_data"
    }
   ],
   "source": [
    "best_lr = parameter_search(train_loader, val_loader, linear_model)\n"
   ]
  },
  {
   "cell_type": "code",
   "execution_count": null,
   "metadata": {
    "id": "oDzs8UtJSqsT"
   },
   "outputs": [],
   "source": [
    "model = linear_model()\n",
    "optimizer = SGD(model.parameters(), best_lr)"
   ]
  },
  {
   "cell_type": "code",
   "execution_count": null,
   "metadata": {
    "colab": {
     "referenced_widgets": [
      "d8e645bd20de40238f70d1b5332af937"
     ]
    },
    "id": "_tk07LfkIPgS",
    "outputId": "a71200be-d711-43ae-9d4a-47387cf8b21a"
   },
   "outputs": [],
   "source": [
    "# We are only using 20 epochs for this example. You may have to use more.\n",
    "train_loss, train_accuracy, val_loss, val_accuracy = train(\n",
    "    model, optimizer, train_loader, val_loader, 20\n",
    ")"
   ]
  },
  {
   "cell_type": "markdown",
   "metadata": {
    "id": "MSi0cEADDJcf"
   },
   "source": [
    "Plot the training and validation accuracy for each epoch."
   ]
  },
  {
   "cell_type": "code",
   "execution_count": null,
   "metadata": {
    "colab": {
     "base_uri": "https://localhost:8080/",
     "height": 295
    },
    "id": "-i_KVlY3WthL",
    "outputId": "091bfafc-4961-40a9-94ee-896cca4b97c5"
   },
   "outputs": [],
   "source": [
    "epochs = range(1, 21)\n",
    "plt.plot(epochs, train_accuracy, label=\"Train Accuracy\")\n",
    "plt.plot(epochs, val_accuracy, label=\"Validation Accuracy\")\n",
    "plt.xlabel(\"Epoch\")\n",
    "plt.ylabel(\"Accuracy\")\n",
    "plt.legend()\n",
    "plt.title(\"Logistic Regression Accuracy for CIFAR-10 vs Epoch\")\n",
    "plt.show()"
   ]
  },
  {
   "cell_type": "markdown",
   "metadata": {
    "id": "zu8AaNRl4FDi"
   },
   "source": [
    "The last thing we have to do is evaluate our model on the testing data."
   ]
  },
  {
   "cell_type": "code",
   "execution_count": null,
   "metadata": {
    "id": "KzxYGlYH4MwC"
   },
   "outputs": [],
   "source": [
    "def evaluate(\n",
    "    model: nn.Module, loader: DataLoader\n",
    ") -> Tuple[float, float]:\n",
    "    \"\"\"Computes test loss and accuracy of model on loader.\"\"\"\n",
    "    loss = nn.CrossEntropyLoss()\n",
    "    model.eval()\n",
    "    test_loss = 0.0\n",
    "    test_acc = 0.0\n",
    "    with torch.no_grad():\n",
    "        for (batch, labels) in loader:\n",
    "            batch, labels = batch.to(DEVICE), labels.to(DEVICE)\n",
    "            y_batch_pred = model(batch)\n",
    "            batch_loss = loss(y_batch_pred, labels)\n",
    "            test_loss = test_loss + batch_loss.item()\n",
    "\n",
    "            pred_max = torch.argmax(y_batch_pred, 1)\n",
    "            batch_acc = torch.sum(pred_max == labels)\n",
    "            test_acc = test_acc + batch_acc.item()\n",
    "        test_loss = test_loss / len(loader)\n",
    "        test_acc = test_acc / (batch_size * len(loader))\n",
    "        return test_loss, test_acc"
   ]
  },
  {
   "cell_type": "code",
   "execution_count": null,
   "metadata": {
    "colab": {
     "base_uri": "https://localhost:8080/"
    },
    "id": "ekfbYD_34XFB",
    "outputId": "97ef26db-193f-40ba-e9d4-3d005e1ed61a"
   },
   "outputs": [],
   "source": [
    "test_loss, test_acc = evaluate(model, test_loader)\n",
    "print(f\"Test Accuracy: {test_acc}\")"
   ]
  },
  {
   "cell_type": "markdown",
   "metadata": {
    "id": "OK-KuYt41uFA"
   },
   "source": [
    "The rest is yours to code. You can structure the code any way you would like.\n",
    "\n",
    "We do advise making using code cells and functions (train, search, predict etc.) for each subproblem, since they will make your code easier to debug. \n",
    "\n",
    "Also note that several of the functions above can be reused for the various different models you will implement for this problem; i.e., you won't need to write a new `evaluate()`."
   ]
  },
  {
   "cell_type": "code",
   "execution_count": 26,
   "metadata": {
    "id": "6gRW9EyTWFRO"
   },
   "outputs": [
    {
     "name": "stdout",
     "output_type": "stream",
     "text": [
      "mps\n"
     ]
    },
    {
     "data": {
      "application/vnd.jupyter.widget-view+json": {
       "model_id": "9e962fb8be0b46a69be6f5d4f8056025",
       "version_major": 2,
       "version_minor": 0
      },
      "text/plain": [
       "  0%|          | 0/20 [00:00<?, ?it/s]"
      ]
     },
     "metadata": {},
     "output_type": "display_data"
    },
    {
     "name": "stdout",
     "output_type": "stream",
     "text": [
      "Epoch 1, loss: 2.2125010788440704\n",
      "Training accuracy: 0.304, Validation accuracy: 0.315\n",
      "Epoch 2, loss: 2.0623603900047867\n",
      "Training accuracy: 0.325, Validation accuracy: 0.342\n",
      "Epoch 3, loss: 1.9511607858267697\n",
      "Training accuracy: 0.339, Validation accuracy: 0.344\n",
      "Epoch 4, loss: 1.8738037825308063\n",
      "Training accuracy: 0.365, Validation accuracy: 0.368\n",
      "Epoch 5, loss: 1.8163763345642523\n",
      "Training accuracy: 0.372, Validation accuracy: 0.374\n",
      "Epoch 6, loss: 1.772021054882895\n",
      "Training accuracy: 0.381, Validation accuracy: 0.385\n",
      "Epoch 7, loss: 1.7350055362013252\n",
      "Training accuracy: 0.396, Validation accuracy: 0.387\n",
      "Epoch 8, loss: 1.7037042379379272\n",
      "Training accuracy: 0.403, Validation accuracy: 0.401\n",
      "Epoch 9, loss: 1.6762387793172489\n",
      "Training accuracy: 0.417, Validation accuracy: 0.412\n",
      "Epoch 10, loss: 1.6524612751196732\n",
      "Training accuracy: 0.427, Validation accuracy: 0.424\n",
      "Epoch 11, loss: 1.6307290684093128\n",
      "Training accuracy: 0.43, Validation accuracy: 0.421\n",
      "Epoch 12, loss: 1.6118919544599273\n",
      "Training accuracy: 0.44, Validation accuracy: 0.433\n",
      "Epoch 13, loss: 1.593603846024383\n",
      "Training accuracy: 0.443, Validation accuracy: 0.432\n",
      "Epoch 14, loss: 1.577697591009465\n",
      "Training accuracy: 0.454, Validation accuracy: 0.453\n",
      "Epoch 15, loss: 1.56195095655593\n",
      "Training accuracy: 0.458, Validation accuracy: 0.452\n",
      "Epoch 16, loss: 1.547418229620565\n",
      "Training accuracy: 0.464, Validation accuracy: 0.455\n",
      "Epoch 17, loss: 1.533562696115537\n",
      "Training accuracy: 0.466, Validation accuracy: 0.463\n",
      "Epoch 18, loss: 1.5203917426141826\n",
      "Training accuracy: 0.469, Validation accuracy: 0.463\n",
      "Epoch 19, loss: 1.5077794499017976\n",
      "Training accuracy: 0.481, Validation accuracy: 0.47\n",
      "Epoch 20, loss: 1.4952740550718524\n",
      "Training accuracy: 0.479, Validation accuracy: 0.472\n",
      "Finished Training\n"
     ]
    }
   ],
   "source": [
    "import torch.nn as nn\n",
    "import torch.optim as optim\n",
    "from math import floor\n",
    "\n",
    "#DEVICE = torch.device(\"cpu\")\n",
    "DEVICE = torch.device(\"mps\")\n",
    "#DEVICE = torch.device(\"cpu\")\n",
    "print(DEVICE)\n",
    "\n",
    "# k is filter size (k x k)\n",
    "# M is number of filters in convnet, or fully connected neurons in fullyconnectednet\n",
    "# N max pool size (N x N)\n",
    "\n",
    "class FullyConnectedNet(nn.Module):\n",
    "    def __init__(self, M):\n",
    "        # here M is the number of hidden layer neurons in the fully connected network\n",
    "        super(FullyConnectedNet, self).__init__()\n",
    "        self.model = nn.Sequential(\n",
    "            nn.Flatten(),\n",
    "            nn.Linear(32 * 32 * 3, M, bias=True),\n",
    "            nn.ReLU(),\n",
    "            nn.Linear(M, 10, bias=True)\n",
    "        )\n",
    "        \n",
    "    def forward(self, x):\n",
    "        return self.model(x)\n",
    "\n",
    "\n",
    "class ConvNet(nn.Module):\n",
    "    def __init__(self, M=100, k=5, N=14):\n",
    "        super(ConvNet, self).__init__()\n",
    "        self.model = nn.Sequential(\n",
    "            nn.Conv2d(3, M, k),\n",
    "            nn.ReLU(),\n",
    "            nn.MaxPool2d(N),\n",
    "            nn.Flatten(),\n",
    "            nn.Linear(M * floor((33 - k) // N) ** 2, 10)\n",
    "        )\n",
    "\n",
    "    def forward(self, x):\n",
    "        return self.model(x)\n",
    "    \n",
    "    \n",
    "def compute_accuracy(model, dataloader):\n",
    "    correct = 0\n",
    "    total = 0\n",
    "    with torch.no_grad():\n",
    "        for data in dataloader:\n",
    "            images, labels = data\n",
    "            images, labels = images.to(DEVICE), labels.to(DEVICE)\n",
    "            outputs = model(images)\n",
    "            _, predicted = torch.max(outputs.data, 1)\n",
    "            total += labels.size(0)\n",
    "            correct += (predicted == labels).sum().item()\n",
    "    return round(correct / total, 3)\n",
    "\n",
    "\n",
    "def train(model, train_loader, val_loader, criterion, optimizer, num_epochs):\n",
    "    model = model.to(DEVICE)\n",
    "    for e in tqdm(range(num_epochs)):\n",
    "        running_loss = 0.0\n",
    "        for i, data in enumerate(train_loader, 0):\n",
    "            batch, labels = data\n",
    "            batch, labels = batch.to(DEVICE), labels.to(DEVICE)\n",
    "\n",
    "            optimizer.zero_grad()\n",
    "\n",
    "            outputs = model(batch)\n",
    "            loss = criterion(outputs, labels)\n",
    "            loss.backward()\n",
    "            optimizer.step()\n",
    "\n",
    "            running_loss += loss.item()\n",
    "        print(f'Epoch {e + 1}, loss: {running_loss / len(train_loader)}')\n",
    "\n",
    "        # Compute and print accuracy\n",
    "        train_acc = compute_accuracy(model, train_loader)\n",
    "        val_acc = compute_accuracy(model, val_loader)\n",
    "        print(f'Training accuracy: {train_acc}, Validation accuracy: {val_acc}')\n",
    "\n",
    "    print('Finished Training')\n",
    "\n",
    "    \n",
    "fcmodel = FullyConnectedNet(1000)\n",
    "convnet = ConvNet(M=400, k=5, N=14)\n",
    "optimizer = optim.SGD(convnet.parameters(), lr=1e-2)\n",
    "criterion = nn.CrossEntropyLoss()\n",
    "\n",
    "train(convnet, train_loader, val_loader, criterion, optimizer, num_epochs=20)\n",
    "\n"
   ]
  },
  {
   "cell_type": "code",
   "execution_count": null,
   "metadata": {},
   "outputs": [],
   "source": [
    "#mps = 1:53"
   ]
  },
  {
   "cell_type": "code",
   "execution_count": null,
   "metadata": {},
   "outputs": [],
   "source": []
  }
 ],
 "metadata": {
  "accelerator": "GPU",
  "colab": {
   "provenance": []
  },
  "kernelspec": {
   "display_name": "Python 3 (ipykernel)",
   "language": "python",
   "name": "python3"
  },
  "language_info": {
   "codemirror_mode": {
    "name": "ipython",
    "version": 3
   },
   "file_extension": ".py",
   "mimetype": "text/x-python",
   "name": "python",
   "nbconvert_exporter": "python",
   "pygments_lexer": "ipython3",
   "version": "3.11.3"
  },
  "varInspector": {
   "cols": {
    "lenName": 16,
    "lenType": 16,
    "lenVar": 40
   },
   "kernels_config": {
    "python": {
     "delete_cmd_postfix": "",
     "delete_cmd_prefix": "del ",
     "library": "var_list.py",
     "varRefreshCmd": "print(var_dic_list())"
    },
    "r": {
     "delete_cmd_postfix": ") ",
     "delete_cmd_prefix": "rm(",
     "library": "var_list.r",
     "varRefreshCmd": "cat(var_dic_list()) "
    }
   },
   "types_to_exclude": [
    "module",
    "function",
    "builtin_function_or_method",
    "instance",
    "_Feature"
   ],
   "window_display": false
  },
  "vscode": {
   "interpreter": {
    "hash": "bf814fda1cc440ac317e22279a1ec33d1b20faeecc9ea242b28923e33d4f784d"
   }
  }
 },
 "nbformat": 4,
 "nbformat_minor": 1
}
